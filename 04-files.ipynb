{
 "cells": [
  {
   "cell_type": "code",
   "execution_count": 2,
   "metadata": {
    "collapsed": false
   },
   "outputs": [
    {
     "name": "stdout",
     "output_type": "stream",
     "text": [
      "['data\\\\inflammation-01.csv', 'data\\\\inflammation-02.csv', 'data\\\\inflammation-03.csv', 'data\\\\inflammation-04.csv', 'data\\\\inflammation-05.csv', 'data\\\\inflammation-06.csv', 'data\\\\inflammation-07.csv', 'data\\\\inflammation-08.csv', 'data\\\\inflammation-09.csv', 'data\\\\inflammation-10.csv', 'data\\\\inflammation-11.csv', 'data\\\\inflammation-12.csv']\n"
     ]
    }
   ],
   "source": [
    "import glob #that will help us to obtain the files from a directory\n",
    "print (glob.glob (\"data/inflammation*.csv\"))"
   ]
  },
  {
   "cell_type": "code",
   "execution_count": null,
   "metadata": {
    "collapsed": true
   },
   "outputs": [],
   "source": [
    "%matplotlib inline\n",
    "\n",
    "# we import the tools that we need\n",
    "import numpy\n",
    "import matplotlib.pyplot\n",
    "\n",
    "filenames = glob.glob (\"data/inflammation*.csv\")\n",
    "\n",
    "for f in filenames[:3]:\n",
    "    # we load the inflamation into data\n",
    "    data = numpy.loadtxt(fname=f, delimiter=\",\")\n",
    "\n",
    "    fig = matplotlib.pyplot.figure(figsize=(10, 3))\n",
    "\n",
    "    axes1 = fig.add_subplot(1, 3, 1)\n",
    "    axes2 = fig.add_subplot(1, 3, 2)\n",
    "    axes3 = fig.add_subplot(1, 3, 3)\n",
    "\n",
    "    axes1.set_ylabel(\"average\")\n",
    "    axes1.plot(data.mean(axis=0))\n",
    "\n",
    "    axes2.set_ylabel(\"max\")\n",
    "    axes2.plot(data.max(axis=0))\n",
    "\n",
    "    axes3.set_ylabel(\"min\")\n",
    "    axes3.plot(data.min(axis=0))\n",
    "\n",
    "    matplotlib.pyplot.show()\n"
   ]
  }
 ],
 "metadata": {
  "kernelspec": {
   "display_name": "Python 3",
   "language": "python",
   "name": "python3"
  },
  "language_info": {
   "codemirror_mode": {
    "name": "ipython",
    "version": 3
   },
   "file_extension": ".py",
   "mimetype": "text/x-python",
   "name": "python",
   "nbconvert_exporter": "python",
   "pygments_lexer": "ipython3",
   "version": "3.6.0"
  }
 },
 "nbformat": 4,
 "nbformat_minor": 2
}
